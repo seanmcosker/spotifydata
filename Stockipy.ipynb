{
 "cells": [
  {
   "cell_type": "code",
   "execution_count": 1,
   "id": "742f9da3",
   "metadata": {},
   "outputs": [],
   "source": [
    "import pandas as pd\n",
    "import numpy\n",
    "import scipy\n",
    "import sklearn\n",
    "import os"
   ]
  },
  {
   "cell_type": "code",
   "execution_count": 5,
   "id": "06963c9e",
   "metadata": {},
   "outputs": [
    {
     "name": "stdout",
     "output_type": "stream",
     "text": [
      "Collecting spotipy\n",
      "  Using cached spotipy-2.22.1-py3-none-any.whl (28 kB)\n",
      "Requirement already satisfied: urllib3>=1.26.0 in /Users/seanm/opt/anaconda3/envs/SummerEnv/lib/python3.8/site-packages (from spotipy) (1.26.9)\n",
      "Requirement already satisfied: requests>=2.25.0 in /Users/seanm/opt/anaconda3/envs/SummerEnv/lib/python3.8/site-packages (from spotipy) (2.27.1)\n",
      "Collecting redis>=3.5.3\n",
      "  Downloading redis-4.5.3-py3-none-any.whl (238 kB)\n",
      "\u001b[K     |████████████████████████████████| 238 kB 5.3 MB/s eta 0:00:01\n",
      "\u001b[?25hRequirement already satisfied: six>=1.15.0 in /Users/seanm/opt/anaconda3/envs/SummerEnv/lib/python3.8/site-packages (from spotipy) (1.16.0)\n",
      "Collecting async-timeout>=4.0.2\n",
      "  Using cached async_timeout-4.0.2-py3-none-any.whl (5.8 kB)\n",
      "Requirement already satisfied: charset-normalizer~=2.0.0 in /Users/seanm/opt/anaconda3/envs/SummerEnv/lib/python3.8/site-packages (from requests>=2.25.0->spotipy) (2.0.4)\n",
      "Requirement already satisfied: certifi>=2017.4.17 in /Users/seanm/opt/anaconda3/envs/SummerEnv/lib/python3.8/site-packages (from requests>=2.25.0->spotipy) (2022.9.24)\n",
      "Requirement already satisfied: idna<4,>=2.5 in /Users/seanm/opt/anaconda3/envs/SummerEnv/lib/python3.8/site-packages (from requests>=2.25.0->spotipy) (3.3)\n",
      "Installing collected packages: async-timeout, redis, spotipy\n",
      "Successfully installed async-timeout-4.0.2 redis-4.5.3 spotipy-2.22.1\n",
      "Note: you may need to restart the kernel to use updated packages.\n"
     ]
    }
   ],
   "source": [
    "pip install spotipy --upgrade"
   ]
  },
  {
   "cell_type": "code",
   "execution_count": 3,
   "id": "4c13e42d",
   "metadata": {},
   "outputs": [],
   "source": [
    "\n",
    "cid='56f6a0d9a9e4403697f9932b14c55d7d'\n",
    "secret='d7124eda19594d05a5d9e82aab875e9b'\n",
    "SPOTIPY_REDIRECT_URI='https://example.com'\n"
   ]
  },
  {
   "cell_type": "code",
   "execution_count": 6,
   "id": "e90fc003",
   "metadata": {},
   "outputs": [
    {
     "name": "stderr",
     "output_type": "stream",
     "text": [
      "/Users/seanm/opt/anaconda3/envs/SummerEnv/lib/python3.8/site-packages/requests/__init__.py:102: RequestsDependencyWarning: urllib3 (1.26.9) or chardet (5.0.0)/charset_normalizer (2.0.4) doesn't match a supported version!\n",
      "  warnings.warn(\"urllib3 ({}) or chardet ({})/charset_normalizer ({}) doesn't match a supported \"\n"
     ]
    }
   ],
   "source": [
    "import spotipy\n",
    "from spotipy.oauth2 import SpotifyClientCredentials\n",
    "\n",
    "client_credentials_manager = SpotifyClientCredentials(client_id=cid, client_secret=secret)\n",
    "\n",
    "sp = spotipy.Spotify(client_credentials_manager=client_credentials_manager)"
   ]
  },
  {
   "cell_type": "code",
   "execution_count": 13,
   "id": "374a7398",
   "metadata": {},
   "outputs": [
    {
     "name": "stderr",
     "output_type": "stream",
     "text": [
      "HTTP Error for GET to https://api.spotify.com/v1/search with Params: {'q': 'year:2023', 'limit': 50, 'offset': 1000, 'type': 'track', 'market': None} returned 400 due to Bad request.\n"
     ]
    },
    {
     "ename": "SpotifyException",
     "evalue": "http status: 400, code:-1 - https://api.spotify.com/v1/search?q=year%3A2023&limit=50&offset=1000&type=track:\n Bad request., reason: None",
     "output_type": "error",
     "traceback": [
      "\u001b[0;31m---------------------------------------------------------------------------\u001b[0m",
      "\u001b[0;31mHTTPError\u001b[0m                                 Traceback (most recent call last)",
      "File \u001b[0;32m~/opt/anaconda3/envs/SummerEnv/lib/python3.8/site-packages/spotipy/client.py:269\u001b[0m, in \u001b[0;36mSpotify._internal_call\u001b[0;34m(self, method, url, payload, params)\u001b[0m\n\u001b[1;32m    264\u001b[0m response \u001b[39m=\u001b[39m \u001b[39mself\u001b[39m\u001b[39m.\u001b[39m_session\u001b[39m.\u001b[39mrequest(\n\u001b[1;32m    265\u001b[0m     method, url, headers\u001b[39m=\u001b[39mheaders, proxies\u001b[39m=\u001b[39m\u001b[39mself\u001b[39m\u001b[39m.\u001b[39mproxies,\n\u001b[1;32m    266\u001b[0m     timeout\u001b[39m=\u001b[39m\u001b[39mself\u001b[39m\u001b[39m.\u001b[39mrequests_timeout, \u001b[39m*\u001b[39m\u001b[39m*\u001b[39margs\n\u001b[1;32m    267\u001b[0m )\n\u001b[0;32m--> 269\u001b[0m response\u001b[39m.\u001b[39;49mraise_for_status()\n\u001b[1;32m    270\u001b[0m results \u001b[39m=\u001b[39m response\u001b[39m.\u001b[39mjson()\n",
      "File \u001b[0;32m~/opt/anaconda3/envs/SummerEnv/lib/python3.8/site-packages/requests/models.py:960\u001b[0m, in \u001b[0;36mResponse.raise_for_status\u001b[0;34m(self)\u001b[0m\n\u001b[1;32m    959\u001b[0m \u001b[39mif\u001b[39;00m http_error_msg:\n\u001b[0;32m--> 960\u001b[0m     \u001b[39mraise\u001b[39;00m HTTPError(http_error_msg, response\u001b[39m=\u001b[39m\u001b[39mself\u001b[39m)\n",
      "\u001b[0;31mHTTPError\u001b[0m: 400 Client Error: Bad Request for url: https://api.spotify.com/v1/search?q=year%3A2023&limit=50&offset=1000&type=track",
      "\nDuring handling of the above exception, another exception occurred:\n",
      "\u001b[0;31mSpotifyException\u001b[0m                          Traceback (most recent call last)",
      "\u001b[1;32m/Users/seanm/Desktop/spotifydata/Stockipy.ipynb Cell 5\u001b[0m in \u001b[0;36m<cell line: 5>\u001b[0;34m()\u001b[0m\n\u001b[1;32m      <a href='vscode-notebook-cell:/Users/seanm/Desktop/spotifydata/Stockipy.ipynb#W4sZmlsZQ%3D%3D?line=3'>4</a>\u001b[0m track_id \u001b[39m=\u001b[39m []\n\u001b[1;32m      <a href='vscode-notebook-cell:/Users/seanm/Desktop/spotifydata/Stockipy.ipynb#W4sZmlsZQ%3D%3D?line=4'>5</a>\u001b[0m \u001b[39mfor\u001b[39;00m i \u001b[39min\u001b[39;00m \u001b[39mrange\u001b[39m(\u001b[39m0\u001b[39m,\u001b[39m10000\u001b[39m,\u001b[39m50\u001b[39m):\n\u001b[0;32m----> <a href='vscode-notebook-cell:/Users/seanm/Desktop/spotifydata/Stockipy.ipynb#W4sZmlsZQ%3D%3D?line=5'>6</a>\u001b[0m     track_results \u001b[39m=\u001b[39m sp\u001b[39m.\u001b[39;49msearch(q\u001b[39m=\u001b[39;49m\u001b[39m'\u001b[39;49m\u001b[39myear:2023\u001b[39;49m\u001b[39m'\u001b[39;49m, \u001b[39mtype\u001b[39;49m\u001b[39m=\u001b[39;49m\u001b[39m'\u001b[39;49m\u001b[39mtrack\u001b[39;49m\u001b[39m'\u001b[39;49m, limit\u001b[39m=\u001b[39;49m\u001b[39m50\u001b[39;49m,offset\u001b[39m=\u001b[39;49mi)\n\u001b[1;32m      <a href='vscode-notebook-cell:/Users/seanm/Desktop/spotifydata/Stockipy.ipynb#W4sZmlsZQ%3D%3D?line=6'>7</a>\u001b[0m     \u001b[39mfor\u001b[39;00m i, t \u001b[39min\u001b[39;00m \u001b[39menumerate\u001b[39m(track_results[\u001b[39m'\u001b[39m\u001b[39mtracks\u001b[39m\u001b[39m'\u001b[39m][\u001b[39m'\u001b[39m\u001b[39mitems\u001b[39m\u001b[39m'\u001b[39m]):\n\u001b[1;32m      <a href='vscode-notebook-cell:/Users/seanm/Desktop/spotifydata/Stockipy.ipynb#W4sZmlsZQ%3D%3D?line=7'>8</a>\u001b[0m         artist_name\u001b[39m.\u001b[39mappend(t[\u001b[39m'\u001b[39m\u001b[39martists\u001b[39m\u001b[39m'\u001b[39m][\u001b[39m0\u001b[39m][\u001b[39m'\u001b[39m\u001b[39mname\u001b[39m\u001b[39m'\u001b[39m])\n",
      "File \u001b[0;32m~/opt/anaconda3/envs/SummerEnv/lib/python3.8/site-packages/spotipy/client.py:585\u001b[0m, in \u001b[0;36mSpotify.search\u001b[0;34m(self, q, limit, offset, type, market)\u001b[0m\n\u001b[1;32m    570\u001b[0m \u001b[39mdef\u001b[39;00m \u001b[39msearch\u001b[39m(\u001b[39mself\u001b[39m, q, limit\u001b[39m=\u001b[39m\u001b[39m10\u001b[39m, offset\u001b[39m=\u001b[39m\u001b[39m0\u001b[39m, \u001b[39mtype\u001b[39m\u001b[39m=\u001b[39m\u001b[39m\"\u001b[39m\u001b[39mtrack\u001b[39m\u001b[39m\"\u001b[39m, market\u001b[39m=\u001b[39m\u001b[39mNone\u001b[39;00m):\n\u001b[1;32m    571\u001b[0m     \u001b[39m\"\"\" searches for an item\u001b[39;00m\n\u001b[1;32m    572\u001b[0m \n\u001b[1;32m    573\u001b[0m \u001b[39m        Parameters:\u001b[39;00m\n\u001b[0;32m   (...)\u001b[0m\n\u001b[1;32m    583\u001b[0m \u001b[39m                       from_token.\u001b[39;00m\n\u001b[1;32m    584\u001b[0m \u001b[39m    \"\"\"\u001b[39;00m\n\u001b[0;32m--> 585\u001b[0m     \u001b[39mreturn\u001b[39;00m \u001b[39mself\u001b[39;49m\u001b[39m.\u001b[39;49m_get(\n\u001b[1;32m    586\u001b[0m         \u001b[39m\"\u001b[39;49m\u001b[39msearch\u001b[39;49m\u001b[39m\"\u001b[39;49m, q\u001b[39m=\u001b[39;49mq, limit\u001b[39m=\u001b[39;49mlimit, offset\u001b[39m=\u001b[39;49moffset, \u001b[39mtype\u001b[39;49m\u001b[39m=\u001b[39;49m\u001b[39mtype\u001b[39;49m, market\u001b[39m=\u001b[39;49mmarket\n\u001b[1;32m    587\u001b[0m     )\n",
      "File \u001b[0;32m~/opt/anaconda3/envs/SummerEnv/lib/python3.8/site-packages/spotipy/client.py:321\u001b[0m, in \u001b[0;36mSpotify._get\u001b[0;34m(self, url, args, payload, **kwargs)\u001b[0m\n\u001b[1;32m    318\u001b[0m \u001b[39mif\u001b[39;00m args:\n\u001b[1;32m    319\u001b[0m     kwargs\u001b[39m.\u001b[39mupdate(args)\n\u001b[0;32m--> 321\u001b[0m \u001b[39mreturn\u001b[39;00m \u001b[39mself\u001b[39;49m\u001b[39m.\u001b[39;49m_internal_call(\u001b[39m\"\u001b[39;49m\u001b[39mGET\u001b[39;49m\u001b[39m\"\u001b[39;49m, url, payload, kwargs)\n",
      "File \u001b[0;32m~/opt/anaconda3/envs/SummerEnv/lib/python3.8/site-packages/spotipy/client.py:291\u001b[0m, in \u001b[0;36mSpotify._internal_call\u001b[0;34m(self, method, url, payload, params)\u001b[0m\n\u001b[1;32m    284\u001b[0m         reason \u001b[39m=\u001b[39m \u001b[39mNone\u001b[39;00m\n\u001b[1;32m    286\u001b[0m     logger\u001b[39m.\u001b[39merror(\n\u001b[1;32m    287\u001b[0m         \u001b[39m'\u001b[39m\u001b[39mHTTP Error for \u001b[39m\u001b[39m%s\u001b[39;00m\u001b[39m to \u001b[39m\u001b[39m%s\u001b[39;00m\u001b[39m with Params: \u001b[39m\u001b[39m%s\u001b[39;00m\u001b[39m returned \u001b[39m\u001b[39m%s\u001b[39;00m\u001b[39m due to \u001b[39m\u001b[39m%s\u001b[39;00m\u001b[39m'\u001b[39m,\n\u001b[1;32m    288\u001b[0m         method, url, args\u001b[39m.\u001b[39mget(\u001b[39m\"\u001b[39m\u001b[39mparams\u001b[39m\u001b[39m\"\u001b[39m), response\u001b[39m.\u001b[39mstatus_code, msg\n\u001b[1;32m    289\u001b[0m     )\n\u001b[0;32m--> 291\u001b[0m     \u001b[39mraise\u001b[39;00m SpotifyException(\n\u001b[1;32m    292\u001b[0m         response\u001b[39m.\u001b[39mstatus_code,\n\u001b[1;32m    293\u001b[0m         \u001b[39m-\u001b[39m\u001b[39m1\u001b[39m,\n\u001b[1;32m    294\u001b[0m         \u001b[39m\"\u001b[39m\u001b[39m%s\u001b[39;00m\u001b[39m:\u001b[39m\u001b[39m\\n\u001b[39;00m\u001b[39m \u001b[39m\u001b[39m%s\u001b[39;00m\u001b[39m\"\u001b[39m \u001b[39m%\u001b[39m (response\u001b[39m.\u001b[39murl, msg),\n\u001b[1;32m    295\u001b[0m         reason\u001b[39m=\u001b[39mreason,\n\u001b[1;32m    296\u001b[0m         headers\u001b[39m=\u001b[39mresponse\u001b[39m.\u001b[39mheaders,\n\u001b[1;32m    297\u001b[0m     )\n\u001b[1;32m    298\u001b[0m \u001b[39mexcept\u001b[39;00m requests\u001b[39m.\u001b[39mexceptions\u001b[39m.\u001b[39mRetryError \u001b[39mas\u001b[39;00m retry_error:\n\u001b[1;32m    299\u001b[0m     request \u001b[39m=\u001b[39m retry_error\u001b[39m.\u001b[39mrequest\n",
      "\u001b[0;31mSpotifyException\u001b[0m: http status: 400, code:-1 - https://api.spotify.com/v1/search?q=year%3A2023&limit=50&offset=1000&type=track:\n Bad request., reason: None"
     ]
    }
   ],
   "source": [
    "artist_name = []\n",
    "track_name = []\n",
    "popularity = []\n",
    "track_id = []\n",
    "for i in range(0,10000,50):\n",
    "    track_results = sp.search(q='year:2023', type='track', limit=50,offset=i)\n",
    "    for i, t in enumerate(track_results['tracks']['items']):\n",
    "        artist_name.append(t['artists'][0]['name'])\n",
    "        track_name.append(t['name'])\n",
    "        track_id.append(t['id'])\n",
    "        popularity.append(t['popularity'])"
   ]
  },
  {
   "cell_type": "code",
   "execution_count": 14,
   "id": "5fea39f3",
   "metadata": {},
   "outputs": [
    {
     "name": "stdout",
     "output_type": "stream",
     "text": [
      "(1000, 4)\n"
     ]
    },
    {
     "data": {
      "text/html": [
       "<div>\n",
       "<style scoped>\n",
       "    .dataframe tbody tr th:only-of-type {\n",
       "        vertical-align: middle;\n",
       "    }\n",
       "\n",
       "    .dataframe tbody tr th {\n",
       "        vertical-align: top;\n",
       "    }\n",
       "\n",
       "    .dataframe thead th {\n",
       "        text-align: right;\n",
       "    }\n",
       "</style>\n",
       "<table border=\"1\" class=\"dataframe\">\n",
       "  <thead>\n",
       "    <tr style=\"text-align: right;\">\n",
       "      <th></th>\n",
       "      <th>artist_name</th>\n",
       "      <th>track_name</th>\n",
       "      <th>track_id</th>\n",
       "      <th>popularity</th>\n",
       "    </tr>\n",
       "  </thead>\n",
       "  <tbody>\n",
       "    <tr>\n",
       "      <th>0</th>\n",
       "      <td>PinkPantheress</td>\n",
       "      <td>Boy's a liar Pt. 2</td>\n",
       "      <td>6AQbmUe0Qwf5PZnt4HmTXv</td>\n",
       "      <td>96</td>\n",
       "    </tr>\n",
       "    <tr>\n",
       "      <th>1</th>\n",
       "      <td>Miley Cyrus</td>\n",
       "      <td>Flowers</td>\n",
       "      <td>0yLdNVWF3Srea0uzk55zFn</td>\n",
       "      <td>100</td>\n",
       "    </tr>\n",
       "    <tr>\n",
       "      <th>2</th>\n",
       "      <td>Morgan Wallen</td>\n",
       "      <td>Last Night</td>\n",
       "      <td>59uQI0PADDKeE6UZDTJEe8</td>\n",
       "      <td>88</td>\n",
       "    </tr>\n",
       "    <tr>\n",
       "      <th>3</th>\n",
       "      <td>The Weeknd</td>\n",
       "      <td>Die For You - Remix</td>\n",
       "      <td>7oDd86yk8itslrA9HRP2ki</td>\n",
       "      <td>95</td>\n",
       "    </tr>\n",
       "    <tr>\n",
       "      <th>4</th>\n",
       "      <td>Morgan Wallen</td>\n",
       "      <td>Last Night</td>\n",
       "      <td>7K3BhSpAxZBznislvUMVtn</td>\n",
       "      <td>85</td>\n",
       "    </tr>\n",
       "  </tbody>\n",
       "</table>\n",
       "</div>"
      ],
      "text/plain": [
       "      artist_name           track_name                track_id  popularity\n",
       "0  PinkPantheress   Boy's a liar Pt. 2  6AQbmUe0Qwf5PZnt4HmTXv          96\n",
       "1     Miley Cyrus              Flowers  0yLdNVWF3Srea0uzk55zFn         100\n",
       "2   Morgan Wallen           Last Night  59uQI0PADDKeE6UZDTJEe8          88\n",
       "3      The Weeknd  Die For You - Remix  7oDd86yk8itslrA9HRP2ki          95\n",
       "4   Morgan Wallen           Last Night  7K3BhSpAxZBznislvUMVtn          85"
      ]
     },
     "execution_count": 14,
     "metadata": {},
     "output_type": "execute_result"
    }
   ],
   "source": [
    "track_dataframe = pd.DataFrame({'artist_name' : artist_name, 'track_name' : track_name, 'track_id' : track_id, 'popularity' : popularity})\n",
    "print(track_dataframe.shape)\n",
    "track_dataframe.head()"
   ]
  },
  {
   "cell_type": "code",
   "execution_count": 30,
   "id": "bc47e706",
   "metadata": {},
   "outputs": [
    {
     "data": {
      "text/html": [
       "<div>\n",
       "<style scoped>\n",
       "    .dataframe tbody tr th:only-of-type {\n",
       "        vertical-align: middle;\n",
       "    }\n",
       "\n",
       "    .dataframe tbody tr th {\n",
       "        vertical-align: top;\n",
       "    }\n",
       "\n",
       "    .dataframe thead th {\n",
       "        text-align: right;\n",
       "    }\n",
       "</style>\n",
       "<table border=\"1\" class=\"dataframe\">\n",
       "  <thead>\n",
       "    <tr style=\"text-align: right;\">\n",
       "      <th></th>\n",
       "      <th>artist_name</th>\n",
       "      <th>track_name</th>\n",
       "      <th>track_id</th>\n",
       "      <th>popularity</th>\n",
       "    </tr>\n",
       "  </thead>\n",
       "  <tbody>\n",
       "    <tr>\n",
       "      <th>1</th>\n",
       "      <td>Miley Cyrus</td>\n",
       "      <td>Flowers</td>\n",
       "      <td>0yLdNVWF3Srea0uzk55zFn</td>\n",
       "      <td>100</td>\n",
       "    </tr>\n",
       "    <tr>\n",
       "      <th>0</th>\n",
       "      <td>PinkPantheress</td>\n",
       "      <td>Boy's a liar Pt. 2</td>\n",
       "      <td>6AQbmUe0Qwf5PZnt4HmTXv</td>\n",
       "      <td>96</td>\n",
       "    </tr>\n",
       "    <tr>\n",
       "      <th>5</th>\n",
       "      <td>KAROL G</td>\n",
       "      <td>TQG</td>\n",
       "      <td>0DWdj2oZMBFSzRsi2Cvfzf</td>\n",
       "      <td>96</td>\n",
       "    </tr>\n",
       "    <tr>\n",
       "      <th>9</th>\n",
       "      <td>Bizarrap</td>\n",
       "      <td>Shakira: Bzrp Music Sessions, Vol. 53</td>\n",
       "      <td>4nrPB8O7Y7wsOCJdgXkthe</td>\n",
       "      <td>96</td>\n",
       "    </tr>\n",
       "    <tr>\n",
       "      <th>3</th>\n",
       "      <td>The Weeknd</td>\n",
       "      <td>Die For You - Remix</td>\n",
       "      <td>7oDd86yk8itslrA9HRP2ki</td>\n",
       "      <td>95</td>\n",
       "    </tr>\n",
       "    <tr>\n",
       "      <th>...</th>\n",
       "      <td>...</td>\n",
       "      <td>...</td>\n",
       "      <td>...</td>\n",
       "      <td>...</td>\n",
       "    </tr>\n",
       "    <tr>\n",
       "      <th>566</th>\n",
       "      <td>Bruno Mars</td>\n",
       "      <td>That's What I Like</td>\n",
       "      <td>2cH4Nh2h5JdvrtjnmFGYJk</td>\n",
       "      <td>0</td>\n",
       "    </tr>\n",
       "    <tr>\n",
       "      <th>564</th>\n",
       "      <td>Bruno Mars</td>\n",
       "      <td>Talking to the Moon</td>\n",
       "      <td>1x5m4NFCVpkvaJ0A0K6BAb</td>\n",
       "      <td>0</td>\n",
       "    </tr>\n",
       "    <tr>\n",
       "      <th>563</th>\n",
       "      <td>Bruno Mars</td>\n",
       "      <td>When I Was Your Man</td>\n",
       "      <td>3hFlIMLBhLeXVidgPlJOzJ</td>\n",
       "      <td>0</td>\n",
       "    </tr>\n",
       "    <tr>\n",
       "      <th>562</th>\n",
       "      <td>Bruno Mars</td>\n",
       "      <td>Locked Out of Heaven</td>\n",
       "      <td>5W6l9W9EGodgbO3DhIEa4c</td>\n",
       "      <td>0</td>\n",
       "    </tr>\n",
       "    <tr>\n",
       "      <th>500</th>\n",
       "      <td>Imagine Dragons</td>\n",
       "      <td>Whatever It Takes</td>\n",
       "      <td>1KCUnkJ3r4l0l5j4DAGDjw</td>\n",
       "      <td>0</td>\n",
       "    </tr>\n",
       "  </tbody>\n",
       "</table>\n",
       "<p>1000 rows × 4 columns</p>\n",
       "</div>"
      ],
      "text/plain": [
       "         artist_name                             track_name  \\\n",
       "1        Miley Cyrus                                Flowers   \n",
       "0     PinkPantheress                     Boy's a liar Pt. 2   \n",
       "5            KAROL G                                    TQG   \n",
       "9           Bizarrap  Shakira: Bzrp Music Sessions, Vol. 53   \n",
       "3         The Weeknd                    Die For You - Remix   \n",
       "..               ...                                    ...   \n",
       "566       Bruno Mars                     That's What I Like   \n",
       "564       Bruno Mars                    Talking to the Moon   \n",
       "563       Bruno Mars                    When I Was Your Man   \n",
       "562       Bruno Mars                   Locked Out of Heaven   \n",
       "500  Imagine Dragons                      Whatever It Takes   \n",
       "\n",
       "                   track_id  popularity  \n",
       "1    0yLdNVWF3Srea0uzk55zFn         100  \n",
       "0    6AQbmUe0Qwf5PZnt4HmTXv          96  \n",
       "5    0DWdj2oZMBFSzRsi2Cvfzf          96  \n",
       "9    4nrPB8O7Y7wsOCJdgXkthe          96  \n",
       "3    7oDd86yk8itslrA9HRP2ki          95  \n",
       "..                      ...         ...  \n",
       "566  2cH4Nh2h5JdvrtjnmFGYJk           0  \n",
       "564  1x5m4NFCVpkvaJ0A0K6BAb           0  \n",
       "563  3hFlIMLBhLeXVidgPlJOzJ           0  \n",
       "562  5W6l9W9EGodgbO3DhIEa4c           0  \n",
       "500  1KCUnkJ3r4l0l5j4DAGDjw           0  \n",
       "\n",
       "[1000 rows x 4 columns]"
      ]
     },
     "execution_count": 30,
     "metadata": {},
     "output_type": "execute_result"
    }
   ],
   "source": [
    "track_dataframe.sort_values('popularity', ascending=False)"
   ]
  },
  {
   "cell_type": "code",
   "execution_count": 55,
   "id": "3c4f70c2",
   "metadata": {},
   "outputs": [
    {
     "name": "stdout",
     "output_type": "stream",
     "text": [
      "180             Feid\n",
      "4      Morgan Wallen\n",
      "719         Dua Lipa\n",
      "729     Lana Del Rey\n",
      "Name: artist_name, dtype: object\n",
      "       artist_name                                         track_name  \\\n",
      "4    Morgan Wallen                                         Last Night   \n",
      "729   Lana Del Rey  Grandfather please stand on the shoulders of m...   \n",
      "180           Feid                                           BORRAXXA   \n",
      "719       Dua Lipa                                         Levitating   \n",
      "\n",
      "                   track_id  popularity  \n",
      "4    7K3BhSpAxZBznislvUMVtn          85  \n",
      "729  55LnC7VuUvayQ3fW0CvDL6          67  \n",
      "180  7sMUXynZ9sMyVvDdWMGZWt           1  \n",
      "719  4bltGhUSkXb6HEaDnxx1Y0           0  \n"
     ]
    }
   ],
   "source": [
    "import random\n",
    "import time\n",
    "def getrands(df, num):\n",
    "    x = df.sample(4)\n",
    "    print(x[\"artist_name\"])\n",
    "    time.sleep(3)\n",
    "    print(x.sort_values('popularity', ascending=False))\n",
    "\n",
    "\n",
    "getrands(track_dataframe, 5)"
   ]
  }
 ],
 "metadata": {
  "kernelspec": {
   "display_name": "SummerEnv",
   "language": "python",
   "name": "summerenv"
  },
  "language_info": {
   "codemirror_mode": {
    "name": "ipython",
    "version": 3
   },
   "file_extension": ".py",
   "mimetype": "text/x-python",
   "name": "python",
   "nbconvert_exporter": "python",
   "pygments_lexer": "ipython3",
   "version": "3.8.13"
  }
 },
 "nbformat": 4,
 "nbformat_minor": 5
}
